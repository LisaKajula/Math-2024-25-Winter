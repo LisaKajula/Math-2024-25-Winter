{
  "nbformat": 4,
  "nbformat_minor": 0,
  "metadata": {
    "colab": {
      "provenance": [],
      "authorship_tag": "ABX9TyMqTCtPxSH3IydBCmeISxR4",
      "include_colab_link": true
    },
    "kernelspec": {
      "name": "python3",
      "display_name": "Python 3"
    },
    "language_info": {
      "name": "python"
    }
  },
  "cells": [
    {
      "cell_type": "markdown",
      "metadata": {
        "id": "view-in-github",
        "colab_type": "text"
      },
      "source": [
        "<a href=\"https://colab.research.google.com/github/LisaKajula/Math-2024-25-Winter/blob/main/Notebooks_EN/03_Calculus/20_Limits_of_Real_Functions.ipynb\" target=\"_parent\"><img src=\"https://colab.research.google.com/assets/colab-badge.svg\" alt=\"Open In Colab\"/></a>"
      ]
    },
    {
      "cell_type": "markdown",
      "source": [
        "## Limits and Asymptotes\n",
        "\n",
        "1. **Compute:**\n",
        "\n",
        "$$\\lim_{x \\to \\infty} \\frac{x^3 + 2x^2}{x^4 - 3x^3}$$  \n",
        "\n",
        "### Solution:  \n",
        "Divide the numerator and denominator by $$x^4$$ (the highest power in the denominator):  \n",
        "$$\n",
        "\\frac{x^3 + 2x^2}{x^4 - 3x^3} = \\frac{\\frac{x^3}{x^4} + \\frac{2x^2}{x^4}}{\\frac{x^4}{x^4} - \\frac{3x^3}{x^4}} = \\frac{\\frac{1}{x} + \\frac{2}{x^2}}{1 - \\frac{3}{x}}\n",
        "$$  \n",
        "\n",
        "As $$x \\to \\infty$$, terms with $$\\frac{1}{x}$$ and $$\\frac{1}{x^2}$$ vanish.  \n",
        "Thus,  \n",
        "$$\\lim_{x \\to \\infty} \\frac{x^3 + 2x^2}{x^4 - 3x^3} = \\frac{0 + 0}{1 - 0} = 0$$  \n",
        "\n",
        "---\n",
        "\n",
        "2. **Find:**\n",
        "\n",
        "$$\\lim_{x \\to 0} \\frac{\\sin(3x)}{2x + 1}$$  \n",
        "\n",
        "### Solution:  \n",
        "The numerator, $$\\sin(3x) \\approx 3x$$ as $$x \\to 0$$ (small angle approximation).  \n",
        "The denominator, $$2x + 1 \\to 1$$ as $$x \\to 0$$.  \n",
        "\n",
        "Thus,  \n",
        "$$\\lim_{x \\to 0} \\frac{\\sin(3x)}{2x + 1} = \\frac{3x}{1} = 0$$  \n",
        "\n",
        "---\n",
        "\n",
        "3. **Find the asymptotes of the function:**\n",
        "\n",
        "### For $$f(x) = \\frac{x^2 - 1}{x^2 + 1}$$  \n",
        "\n",
        "#### Vertical Asymptotes:  \n",
        "Vertical asymptotes occur where the denominator is zero.  \n",
        "The denominator is $$x^2 + 1 = 0$$.  \n",
        "This equation has no real solutions, so there are no vertical asymptotes.\n",
        "\n",
        "#### Horizontal Asymptotes:  \n",
        "As $$x \\to \\infty$$ or $$x \\to -\\infty$$, divide numerator and denominator by $$x^2$$:  \n",
        "$$\n",
        "f(x) = \\frac{x^2 - 1}{x^2 + 1} = \\frac{1 - \\frac{1}{x^2}}{1 + \\frac{1}{x^2}}\n",
        "$$  \n",
        "\n",
        "As $$x \\to \\infty$$ or $$x \\to -\\infty$$, $$\\frac{1}{x^2} \\to 0$$.  \n",
        "Thus, $$f(x) \\to \\frac{1}{1} = 1$$.  \n",
        "\n",
        "**Horizontal Asymptote:** $$y = 1$$  \n",
        "\n",
        "---\n",
        "\n",
        "### For $$g(x) = \\frac{\\sin(x)}{x^2 + 1}$$  \n",
        "\n",
        "#### Vertical Asymptotes:  \n",
        "The denominator, $$x^2 + 1 \\neq 0$$ for all real $$x$$.  \n",
        "Thus, there are no vertical asymptotes.\n",
        "\n",
        "#### Horizontal Asymptotes:  \n",
        "As $$x \\to \\infty$$ or $$x \\to -\\infty$$, the numerator $$\\sin(x)$$ oscillates between $$-1$$ and $$1$$, while the denominator $$x^2 + 1 \\to \\infty$$.  \n",
        "Thus, $$g(x) \\to 0$$ as $$x \\to \\infty$$ or $$x \\to -\\infty$$.  \n",
        "\n",
        "**Horizontal Asymptote:** $$y = 0$$  \n",
        "\n"
      ],
      "metadata": {
        "id": "FAqxEE5khlb3"
      }
    }
  ]
}
{
  "nbformat": 4,
  "nbformat_minor": 0,
  "metadata": {
    "colab": {
      "provenance": [],
      "authorship_tag": "ABX9TyMQ4VcB5nrMls3wQ+e6rnUw",
      "include_colab_link": true
    },
    "kernelspec": {
      "name": "python3",
      "display_name": "Python 3"
    },
    "language_info": {
      "name": "python"
    }
  },
  "cells": [
    {
      "cell_type": "markdown",
      "metadata": {
        "id": "view-in-github",
        "colab_type": "text"
      },
      "source": [
        "<a href=\"https://colab.research.google.com/github/LisaKajula/Math-2024-25-Winter/blob/main/Notebooks_EN/03_Calculus/19_Limits_of_Sequences.ipynb\" target=\"_parent\"><img src=\"https://colab.research.google.com/assets/colab-badge.svg\" alt=\"Open In Colab\"/></a>"
      ]
    },
    {
      "cell_type": "markdown",
      "source": [
        "## Limits of Sequences\n",
        "\n",
        "1. **Calculate:**\n",
        "\n",
        "$$\\lim_{n \\to \\infty} \\frac{n^2 + 3n^2}{n^2 - 2n}$$  \n",
        "\n",
        "### Solution:  \n",
        "Simplify the expression:  \n",
        "$$\\frac{n^2 + 3n^2}{n^2 - 2n} = \\frac{4n^2}{n^2 - 2n}$$  \n",
        "\n",
        "Divide numerator and denominator by $$n^2$$:  \n",
        "$$\\frac{4}{1 - \\frac{2}{n}}$$  \n",
        "\n",
        "As $$n \\to \\infty$$, $$\\frac{2}{n} \\to 0$$.  \n",
        "Thus,  \n",
        "$$\\lim_{n \\to \\infty} \\frac{4}{1 - \\frac{2}{n}} = \\frac{4}{1 - 0} = 4$$  \n",
        "\n",
        "---\n",
        "\n",
        "2. **Calculate:**  \n",
        "\n",
        "$$\\lim_{n \\to \\infty} \\frac{(2n + 3)^3}{n^3 - 1}$$  \n",
        "\n",
        "### Solution:  \n",
        "Expand $$(2n + 3)^3$$ using the binomial theorem:  \n",
        "$$\n",
        "(2n + 3)^3 = 8n^3 + 12n^2 \\cdot 3 + 6n \\cdot 9 + 27 = 8n^3 + 36n^2 + 54n + 27\n",
        "$$  \n",
        "\n",
        "Divide numerator and denominator by $$n^3$$:  \n",
        "$$\n",
        "\\frac{(2n + 3)^3}{n^3 - 1} = \\frac{8n^3 + 36n^2 + 54n + 27}{n^3 - 1} = \\frac{8 + \\frac{36}{n} + \\frac{54}{n^2} + \\frac{27}{n^3}}{1 - \\frac{1}{n^3}}\n",
        "$$  \n",
        "\n",
        "As $$n \\to \\infty$$, terms with $$\\frac{1}{n}, \\frac{1}{n^2}, \\frac{1}{n^3}$$ vanish.  \n",
        "Thus,  \n",
        "$$\\lim_{n \\to \\infty} \\frac{(2n + 3)^3}{n^3 - 1} = \\frac{8}{1} = 8$$  \n",
        "\n",
        "---\n",
        "\n",
        "3. **Prove using the squeeze theorem:**\n",
        "\n",
        "$$\\lim_{n \\to \\infty} \\frac{\\sin(n)}{n}$$  \n",
        "\n",
        "### Solution:  \n",
        "We know that $$-1 \\leq \\sin(n) \\leq 1$$. Dividing through by $$n > 0$$:  \n",
        "$$\n",
        "-\\frac{1}{n} \\leq \\frac{\\sin(n)}{n} \\leq \\frac{1}{n}\n",
        "$$  \n",
        "\n",
        "As $$n \\to \\infty$$, $$\\frac{1}{n} \\to 0$$ and $$-\\frac{1}{n} \\to 0$$.  \n",
        "By the squeeze theorem,  \n",
        "$$\\lim_{n \\to \\infty} \\frac{\\sin(n)}{n} = 0$$  \n",
        "\n",
        "---\n",
        "\n",
        "4. **Find the limit of the sequence:**\n",
        "\n",
        "$$a_n = \\left(1 + \\frac{1}{n}\\right)^n$$  \n",
        "\n",
        "### Solution:  \n",
        "We know that:  \n",
        "$$\\lim_{n \\to \\infty} \\left(1 + \\frac{1}{n}\\right)^n = e$$  \n",
        "\n",
        "Thus,  \n",
        "$$\\lim_{n \\to \\infty} a_n = e$$  \n"
      ],
      "metadata": {
        "id": "OT3RXXiMfx19"
      }
    }
  ]
}
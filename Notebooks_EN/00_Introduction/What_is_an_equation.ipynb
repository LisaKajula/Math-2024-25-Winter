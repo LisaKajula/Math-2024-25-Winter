{
  "cells": [
    {
      "cell_type": "markdown",
      "metadata": {
        "id": "view-in-github",
        "colab_type": "text"
      },
      "source": [
        "<a href=\"https://colab.research.google.com/github/lisalikestocode/final/blob/main/Notebooks_EN/00_Introduction/What_is_an_equation.ipynb\" target=\"_parent\"><img src=\"https://colab.research.google.com/assets/colab-badge.svg\" alt=\"Open In Colab\"/></a>"
      ]
    },
    {
      "cell_type": "markdown",
      "metadata": {
        "id": "ypYuuvx3Dixn"
      },
      "source": [
        "## Definition of an Equation\n",
        "\n",
        "An **equation** in mathematics is a formal expression that states that two values or expressions are equal. It consists of two parts: the left-hand side and the right-hand side, separated by an equals sign \"=\".\n",
        "\n",
        "Solving equations involves finding the values of the variables (called unknowns) that make the equation true.\n",
        "\n",
        "\n",
        "**Example 1**\n",
        "\n",
        "Consider the equation $2x + 3 = 7$. In this case, we have one variable $x$. When solving the equation, we want to find the value of $x$ for which the left-hand side is equal to the right-hand side. The solution of the equation is the set\n",
        "\n",
        "$$\n",
        "\\{x \\in \\mathbb{R} : 2x + 3 = 7\\} = \\{x \\in \\mathbb{R} : x = 2\\}= \\{2\\}\n",
        "$$\n",
        "\n",
        "where\n",
        "\n",
        "1. **$\\{x \\in \\mathbb{R} : 2x + 3 = 7\\}$**  \n",
        "   Read as:  \n",
        "   \"The set of all $x$ belonging to real numbers for which $2x + 3 = 7$.\"\n",
        "\n",
        "2. **$\\{x \\in \\mathbb{R} : x = 2\\}$**  \n",
        "   Read as:  \n",
        "   \"The set of all $x$ belonging to real numbers for which $x = 2$.\"\n",
        "\n",
        "3. **$\\{2\\}$**  \n",
        "   Read as:  \n",
        "   \"The set containing only the number 2.\"\n",
        "\n",
        "Thus, the entire construction shows that the solution to the equation $2x + 3 = 7$ is the number $x = 2$, which we write as the singleton set $\\{2\\}$.\n",
        "\n",
        "\n",
        "**Example 2**\n",
        "\n",
        "Consider the equation $x^2 - 4 = 0$. In this case, we have one variable $x$. When solving the equation, we want to find the value of $x$ for which the left-hand side is equal to the right-hand side. The solution of the equation is the set\n",
        "\n",
        "$$\n",
        "\\{x \\in \\mathbb{R} : x^2 - 4 = 0\\}= \\{x \\in \\mathbb{R} : x^2 = 4\\} = \\{x \\in \\mathbb{R} : x = 2 \\lor x = -2\\} = \\{2, -2\\}\n",
        "$$\n",
        "\n",
        "where\n",
        "\n",
        "1. **$\\{x \\in \\mathbb{R} : x^2 - 4 = 0\\}$**  \n",
        "   Read as:  \n",
        "   \"The set of all $x$ belonging to real numbers for which $x^2 - 4 = 0$.\"\n",
        "\n",
        "2. **$\\{x \\in \\mathbb{R} : x^2 = 4\\}$**  \n",
        "   Read as:  \n",
        "   \"The set of all $x$ belonging to real numbers for which $x^2 = 4$.\"\n",
        "\n",
        "3. **$\\{x \\in \\mathbb{R} : x = 2 \\lor x = -2\\}$**  \n",
        "   Read as:  \n",
        "   \"The set of all $x$ belonging to real numbers for which $x = 2$ or $x = -2$.\"\n",
        "\n",
        "4. **$\\{2, -2\\}$**  \n",
        "   Read as:  \n",
        "   \"The set containing the numbers 2 and -2.\"\n",
        "\n",
        "Thus, the entire construction shows that the solution to the equation $x^2 - 4 = 0$ is the numbers $x = 2$ and $x = -2$, which we write as the set $\\{2, -2\\}$.\n",
        "\n",
        "\n",
        "**Example 3**\n",
        "\n",
        "Consider the line given by the equation $y = 2x + 1$. In this case, we have two variables $x$ and $y$. When solving the equation, we want to find the values of $x$ and $y$ for which the left-hand side is equal to the right-hand side. The solution of the equation is the set\n",
        "\n",
        "$$\n",
        "\\{(x, y) \\in \\mathbb{R}^2 : (x \\in \\mathbb{R}) \\land (y = 2x + 1)\\} = \\{(x, 2x + 1) : x \\in \\mathbb{R}\\}\n",
        "$$\n",
        "\n",
        "where\n",
        "\n",
        "1. **$\\{(x, y) \\in \\mathbb{R}^2 : (x \\in \\mathbb{R}) \\land (y = 2x + 1)\\}$**  \n",
        "   Read as:  \n",
        "   \"The set of all pairs $(x, y)$ belonging to the plane $\\mathbb{R}^2$, where $x$ is a real number and $y = 2x + 1$.\"\n",
        "\n",
        "2. **$\\{(x, 2x + 1) : x \\in \\mathbb{R}\\}$**  \n",
        "   Read as:  \n",
        "   \"The set of all pairs of the form $(x, 2x + 1)$, where $x$ belongs to real numbers.\"\n",
        "\n",
        "Thus, the entire construction shows that the set of points $(x, y)$ that satisfy the equation $y = 2x + 1$ can be described as the set of pairs of the form $(x, 2x + 1)$, where $x$ is a real number.\n",
        "\n",
        "\n",
        "**Example 4**\n",
        "\n",
        "Sometimes we deal with implicit equations $F(x,y)$ that cannot be written in the form $y = f(x)$ or $x = f(y)$. Solving such an equation, as above, involves finding all pairs $(x, y)$ that satisfy the equation $F(x, y)$, which we write as\n",
        "\n",
        "$$\n",
        "\\{(x, y) \\in \\mathbb{R}^2 : F(x, y) = 0\\}\n",
        "$$\n",
        "\n",
        "The equation of a circle $x^2 + y^2 = 1$ is an example of an implicit equation. Let's find its solution. Consider the following equalities\n",
        "\n",
        "$$\n",
        "\\begin{cases}\n",
        "y_1=+\\sqrt{1-x^2}\\quad \\text{where } x\\in[-1,1]\\\\\n",
        "y_2=-\\sqrt{1-x^2}\\quad \\text{where } x\\in[-1,1]\\\\\n",
        "\\end{cases}\n",
        "$$\n",
        "\n",
        "We see that $y_1^2 = 1 - x^2$ and $y_2^2 = 1 - x^2$. This means that $y_1$ and $y_2$ satisfy the equation $x^2 + y^2 = 1$. Hence, the solution to the equation $x^2 + y^2 = 1$ is the set\n",
        "\n",
        "$$\n",
        "\\{(x, y) \\in \\mathbb{R}^2 : x^2 + y^2 = 1\\} = \\{(x, \\sqrt{1-x^2}) : x \\in [-1, 1]\\}\\cup\\{(x,-\\sqrt{1-x^2}) : x \\in [-1, 1]\\}\n",
        "$$\n",
        "\n",
        "1. **$\\{(x, y) \\in \\mathbb{R}^2 : x^2 + y^2 = 1\\}$**  \n",
        "   Read as:  \n",
        "   \"The set of all pairs $(x, y)$ belonging to the plane $\\mathbb{R}^2$, for which $x^2 + y^2 = 1$. This is the equation of a circle with radius 1 and center at $(0, 0)$.\"\n",
        "\n",
        "2. **$\\{(x, \\sqrt{1 - x^2}) : x \\in [-1, 1]\\}$**  \n",
        "   Read as:  \n",
        "   \"The set of all pairs of the form $(x, \\sqrt{1 - x^2})$, where $x$ belongs to the interval $[-1, 1]$. This is the upper semicircle.\"\n",
        "\n",
        "3. **$\\{(x, -\\sqrt{1 - x^2}) : x \\in [-1, 1]\\}$**  \n",
        "   Read as:  \n",
        "   \"The set of all pairs of the form $(x, -\\sqrt{1 - x^2})$, where $x$ belongs to the interval $[-1, 1]$. This is the lower semicircle.\"\n",
        "\n",
        "Thus, the entire construction shows that the set of points $(x, y)$ that satisfy the equation of the circle $x^2 + y^2 = 1$ can be described as the union of the sets: the upper semicircle $\\{(x, \\sqrt{1 - x^2})\\}$ and the lower semicircle $\\{(x, -\\sqrt{1 - x^2})\\}$, where $x$ belongs to the interval $[-1, 1]$.\n",
        "\n",
        "# Now we will see how we can manipulate equations in Python"
      ]
    },
    {
      "cell_type": "code",
      "execution_count": 7,
      "metadata": {
        "id": "xQU5K0L4Dixt",
        "outputId": "2eac1da5-bc29-44c9-8848-4a08a7828cda",
        "colab": {
          "base_uri": "https://localhost:8080/"
        }
      },
      "outputs": [
        {
          "output_type": "execute_result",
          "data": {
            "text/plain": [
              "10"
            ]
          },
          "metadata": {},
          "execution_count": 7
        }
      ],
      "source": [
        "# If we refer to an undefined variable in a function, Python will return an error\n",
        "z"
      ]
    },
    {
      "cell_type": "code",
      "execution_count": 6,
      "metadata": {
        "id": "2DyIe-EjDixv",
        "outputId": "bfa6262b-7bbe-49da-8956-d48106d3b649",
        "colab": {
          "base_uri": "https://localhost:8080/"
        }
      },
      "outputs": [
        {
          "output_type": "execute_result",
          "data": {
            "text/plain": [
              "10"
            ]
          },
          "metadata": {},
          "execution_count": 6
        }
      ],
      "source": [
        "# We can define the variable z\n",
        "z = 10 # assign the value 10 to variable z\n",
        "z      # display the value of variable z"
      ]
    },
    {
      "cell_type": "code",
      "execution_count": 5,
      "metadata": {
        "id": "mKldxVkODixw",
        "outputId": "2bd262a2-ae3f-4d66-c9d3-569c77088a0b",
        "colab": {
          "base_uri": "https://localhost:8080/"
        }
      },
      "outputs": [
        {
          "output_type": "execute_result",
          "data": {
            "text/plain": [
              "11"
            ]
          },
          "metadata": {},
          "execution_count": 5
        }
      ],
      "source": [
        "# We can add 1 to z\n",
        "z = z + 1 # assign the value z+1 to variable z\n",
        "z         # display the value of variable z"
      ]
    },
    {
      "cell_type": "markdown",
      "metadata": {
        "id": "dWQ5jz-EDixw"
      },
      "source": [
        "The problem with this approach is that it does not allow us to manipulate symbols! The above definition assigns a numerical value to the symbol rather than a symbolic one. In Python, we have the `sympy` library available, which allows us to manipulate symbols.\n",
        "\n",
        "Below, we will show some examples of how we can manipulate symbols and equations in Python."
      ]
    },
    {
      "cell_type": "code",
      "execution_count": 8,
      "metadata": {
        "id": "XaorlKE1Dixx"
      },
      "outputs": [],
      "source": [
        "# First, we import the sympy library (Symbolic Python)\n",
        "import sympy as sp\n",
        "\n",
        "# Define variables x and y as symbols\n",
        "x, y = sp.symbols('x y')"
      ]
    },
    {
      "cell_type": "code",
      "execution_count": 9,
      "metadata": {
        "id": "Xh77Bo-3Dixx",
        "outputId": "9f19cf66-0a68-4a73-bd89-2983a00dfc34",
        "colab": {
          "base_uri": "https://localhost:8080/",
          "height": 39
        }
      },
      "outputs": [
        {
          "output_type": "execute_result",
          "data": {
            "text/plain": [
              "x"
            ],
            "text/latex": "$\\displaystyle x$"
          },
          "metadata": {},
          "execution_count": 9
        }
      ],
      "source": [
        "x # x is now a symbol"
      ]
    },
    {
      "cell_type": "code",
      "execution_count": 10,
      "metadata": {
        "id": "9TrvgReHDixx",
        "outputId": "1791634b-4afd-4787-cb02-a09a5e036e5a",
        "colab": {
          "base_uri": "https://localhost:8080/",
          "height": 39
        }
      },
      "outputs": [
        {
          "output_type": "execute_result",
          "data": {
            "text/plain": [
              "x + y"
            ],
            "text/latex": "$\\displaystyle x + y$"
          },
          "metadata": {},
          "execution_count": 10
        }
      ],
      "source": [
        "x + y # Python returns x + y as an expression, not a numerical value"
      ]
    },
    {
      "cell_type": "code",
      "execution_count": 11,
      "metadata": {
        "id": "HBUZpjY1Dixy",
        "outputId": "113e74cc-cfd4-4495-d686-b69ed5311d1f",
        "colab": {
          "base_uri": "https://localhost:8080/",
          "height": 40
        }
      },
      "outputs": [
        {
          "output_type": "execute_result",
          "data": {
            "text/plain": [
              "(x + y)**2"
            ],
            "text/latex": "$\\displaystyle \\left(x + y\\right)^{2}$"
          },
          "metadata": {},
          "execution_count": 11
        }
      ],
      "source": [
        "# We can perform more complex operations on variables\n",
        "expr1 = (x + y)**2 # assign the expression (x+y)^2 to variable expr1\n",
        "expr1            # display the value of variable expr1"
      ]
    },
    {
      "cell_type": "code",
      "execution_count": 12,
      "metadata": {
        "id": "Xcv5rUC5Dixy",
        "outputId": "0591076b-956e-4834-d6ac-b2671020aa5c",
        "colab": {
          "base_uri": "https://localhost:8080/",
          "height": 39
        }
      },
      "outputs": [
        {
          "output_type": "execute_result",
          "data": {
            "text/plain": [
              "x**2 + 2*x*y + y**2"
            ],
            "text/latex": "$\\displaystyle x^{2} + 2 x y + y^{2}$"
          },
          "metadata": {},
          "execution_count": 12
        }
      ],
      "source": [
        "# We can expand the above expression\n",
        "sp.expand(expr1) # the expand command expands the expression"
      ]
    },
    {
      "cell_type": "code",
      "execution_count": 13,
      "metadata": {
        "id": "WJrqZzl8Dixz",
        "outputId": "c5c63ed0-42d6-4869-d260-903c85e959bc",
        "colab": {
          "base_uri": "https://localhost:8080/",
          "height": 40
        }
      },
      "outputs": [
        {
          "output_type": "execute_result",
          "data": {
            "text/plain": [
              "(x + y)**5"
            ],
            "text/latex": "$\\displaystyle \\left(x + y\\right)^{5}$"
          },
          "metadata": {},
          "execution_count": 13
        }
      ],
      "source": [
        "# More complex expression\n",
        "expr2 = (x + y)**5 # assign the expression (x+y)^5 to variable expr2\n",
        "expr2          # display the value of variable expr2"
      ]
    },
    {
      "cell_type": "code",
      "execution_count": 14,
      "metadata": {
        "id": "DOL1fDkKDixz",
        "outputId": "60631f17-f671-4b87-ea33-0caacd7d5a5c",
        "colab": {
          "base_uri": "https://localhost:8080/",
          "height": 39
        }
      },
      "outputs": [
        {
          "output_type": "execute_result",
          "data": {
            "text/plain": [
              "x**5 + 5*x**4*y + 10*x**3*y**2 + 10*x**2*y**3 + 5*x*y**4 + y**5"
            ],
            "text/latex": "$\\displaystyle x^{5} + 5 x^{4} y + 10 x^{3} y^{2} + 10 x^{2} y^{3} + 5 x y^{4} + y^{5}$"
          },
          "metadata": {},
          "execution_count": 14
        }
      ],
      "source": [
        "expr2_expanded = sp.expand(expr2) # expand the expression\n",
        "expr2_expanded                    # display the value of variable expr2_expanded"
      ]
    },
    {
      "cell_type": "code",
      "execution_count": 15,
      "metadata": {
        "id": "_vngXYGvDixz",
        "outputId": "c2c51df0-b61c-4ab3-d53c-19a438fed1cf",
        "colab": {
          "base_uri": "https://localhost:8080/",
          "height": 39
        }
      },
      "outputs": [
        {
          "output_type": "execute_result",
          "data": {
            "text/plain": [
              "y**5 + 10*y**4 + 40*y**3 + 80*y**2 + 80*y + 32"
            ],
            "text/latex": "$\\displaystyle y^{5} + 10 y^{4} + 40 y^{3} + 80 y^{2} + 80 y + 32$"
          },
          "metadata": {},
          "execution_count": 15
        }
      ],
      "source": [
        "# We can substitute specific values into variables, e.g., x=2\n",
        "expr2_expanded.subs(x, 2)  # subs(x, 2) substitutes x=2 into the expression"
      ]
    },
    {
      "cell_type": "code",
      "execution_count": 16,
      "metadata": {
        "id": "1ErIl3EUDix1",
        "outputId": "2e00cbc7-a590-44fe-d1fb-ad711d9bdf5f",
        "colab": {
          "base_uri": "https://localhost:8080/",
          "height": 39
        }
      },
      "outputs": [
        {
          "output_type": "execute_result",
          "data": {
            "text/plain": [
              "Eq(x**2, 1)"
            ],
            "text/latex": "$\\displaystyle x^{2} = 1$"
          },
          "metadata": {},
          "execution_count": 16
        }
      ],
      "source": [
        "# In sympy, we can define equations!\n",
        "eq1 = sp.Eq(x**2, 1)\n",
        "eq1"
      ]
    },
    {
      "cell_type": "code",
      "execution_count": 17,
      "metadata": {
        "id": "Ln3TGTbDDix1",
        "outputId": "2ee125e1-1f50-4c2c-cb0e-615cb01130ea",
        "colab": {
          "base_uri": "https://localhost:8080/"
        }
      },
      "outputs": [
        {
          "output_type": "execute_result",
          "data": {
            "text/plain": [
              "[-1, 1]"
            ]
          },
          "metadata": {},
          "execution_count": 17
        }
      ],
      "source": [
        "# We can ask for solutions to the equation\n",
        "sol_eq1 = sp.solve(eq1)\n",
        "sol_eq1"
      ]
    },
    {
      "cell_type": "code",
      "execution_count": 19,
      "metadata": {
        "id": "mwFrra7yDix1",
        "outputId": "2ca53810-11d5-44ba-9b31-36e74318bc92",
        "colab": {
          "base_uri": "https://localhost:8080/",
          "height": 37
        }
      },
      "outputs": [
        {
          "output_type": "execute_result",
          "data": {
            "text/plain": [
              "True"
            ],
            "text/latex": "$\\displaystyle \\text{True}$"
          },
          "metadata": {},
          "execution_count": 19
        }
      ],
      "source": [
        "# Check if the first solution satisfies the equation\n",
        "eq1.subs(x, sol_eq1[0]) # substitute the solution into the equation and check if it is satisfied"
      ]
    },
    {
      "cell_type": "code",
      "execution_count": 18,
      "metadata": {
        "id": "rHUzs_VXDix2",
        "outputId": "ac3e790f-e90c-43ba-c1a4-1e55872e3367",
        "colab": {
          "base_uri": "https://localhost:8080/",
          "height": 37
        }
      },
      "outputs": [
        {
          "output_type": "execute_result",
          "data": {
            "text/plain": [
              "True"
            ],
            "text/latex": "$\\displaystyle \\text{True}$"
          },
          "metadata": {},
          "execution_count": 18
        }
      ],
      "source": [
        "# Check if the second solution satisfies the equation\n",
        "eq1.subs(x, sol_eq1[1]) # substitute the solution into the equation and check if it is satisfied"
      ]
    },
    {
      "cell_type": "code",
      "execution_count": 20,
      "metadata": {
        "id": "bIR41_GCDix2",
        "outputId": "848e594c-e74a-4a9e-ce97-08f881e9965f",
        "colab": {
          "base_uri": "https://localhost:8080/",
          "height": 39
        }
      },
      "outputs": [
        {
          "output_type": "execute_result",
          "data": {
            "text/plain": [
              "Eq(x**2 - 4*x + 3, 0)"
            ],
            "text/latex": "$\\displaystyle x^{2} - 4 x + 3 = 0$"
          },
          "metadata": {},
          "execution_count": 20
        }
      ],
      "source": [
        "# Another example\n",
        "eq2 = sp.Eq(x**2 - 4*x + 3, 0)\n",
        "eq2"
      ]
    },
    {
      "cell_type": "code",
      "execution_count": 21,
      "metadata": {
        "id": "NRgTayMTDix3",
        "outputId": "92d43006-81e6-4343-b89d-4abe41d709ab",
        "colab": {
          "base_uri": "https://localhost:8080/"
        }
      },
      "outputs": [
        {
          "output_type": "execute_result",
          "data": {
            "text/plain": [
              "[1, 3]"
            ]
          },
          "metadata": {},
          "execution_count": 21
        }
      ],
      "source": [
        "# Solutions of the equation\n",
        "sol_eq2 = sp.solve(eq2)\n",
        "sol_eq2"
      ]
    },
    {
      "cell_type": "code",
      "execution_count": 22,
      "metadata": {
        "id": "3WI_MRGXDix3",
        "outputId": "7b3d6f6f-2a88-4446-9243-f28588ac2f53",
        "colab": {
          "base_uri": "https://localhost:8080/",
          "height": 37
        }
      },
      "outputs": [
        {
          "output_type": "execute_result",
          "data": {
            "text/plain": [
              "True"
            ],
            "text/latex": "$\\displaystyle \\text{True}$"
          },
          "metadata": {},
          "execution_count": 22
        }
      ],
      "source": [
        "# Check the solutions\n",
        "eq2.subs(x, sol_eq2[0]) and eq2.subs(x, sol_eq2[1])"
      ]
    },
    {
      "cell_type": "code",
      "execution_count": 23,
      "metadata": {
        "id": "HUseGKVcDix3",
        "outputId": "49db9fe7-a4a8-428d-f35f-ab60a231e842",
        "colab": {
          "base_uri": "https://localhost:8080/",
          "height": 39
        }
      },
      "outputs": [
        {
          "output_type": "execute_result",
          "data": {
            "text/plain": [
              "Eq(x**2 + y**2, 1)"
            ],
            "text/latex": "$\\displaystyle x^{2} + y^{2} = 1$"
          },
          "metadata": {},
          "execution_count": 23
        }
      ],
      "source": [
        "# Equation with two unknowns\n",
        "eq3 = sp.Eq(x**2 + y**2, 1)\n",
        "eq3"
      ]
    },
    {
      "cell_type": "code",
      "execution_count": 24,
      "metadata": {
        "id": "g0VtyrJPDix3",
        "outputId": "7a1279aa-5a55-46fc-dc1b-cd295ed84e7c",
        "colab": {
          "base_uri": "https://localhost:8080/"
        }
      },
      "outputs": [
        {
          "output_type": "execute_result",
          "data": {
            "text/plain": [
              "[-sqrt(1 - x**2), sqrt(1 - x**2)]"
            ]
          },
          "metadata": {},
          "execution_count": 24
        }
      ],
      "source": [
        "# Solutions of a quadratic equation with two unknowns\n",
        "sol_eq3 = sp.solve(eq3, y) # solve the equation for y as a function of x\n",
        "sol_eq3"
      ]
    },
    {
      "cell_type": "code",
      "execution_count": 25,
      "metadata": {
        "id": "Tapz63caDix4",
        "outputId": "721429ba-b7d9-4186-cd5e-3033bdc2b927",
        "colab": {
          "base_uri": "https://localhost:8080/",
          "height": 40
        }
      },
      "outputs": [
        {
          "output_type": "execute_result",
          "data": {
            "text/plain": [
              "-sqrt(1 - x**2)"
            ],
            "text/latex": "$\\displaystyle - \\sqrt{1 - x^{2}}$"
          },
          "metadata": {},
          "execution_count": 25
        }
      ],
      "source": [
        "# We can display the solutions of the equation in a more readable way\n",
        "sol_eq3[0]"
      ]
    },
    {
      "cell_type": "code",
      "execution_count": 26,
      "metadata": {
        "id": "3zghw_n-Dix4",
        "outputId": "7bf52365-58b3-4a10-8857-e8bd21df51f4",
        "colab": {
          "base_uri": "https://localhost:8080/",
          "height": 40
        }
      },
      "outputs": [
        {
          "output_type": "execute_result",
          "data": {
            "text/plain": [
              "sqrt(1 - x**2)"
            ],
            "text/latex": "$\\displaystyle \\sqrt{1 - x^{2}}$"
          },
          "metadata": {},
          "execution_count": 26
        }
      ],
      "source": [
        "sol_eq3[1]"
      ]
    },
    {
      "cell_type": "code",
      "execution_count": 27,
      "metadata": {
        "id": "qtoxfSEuDix4",
        "outputId": "d09bd0a1-11ec-4569-b581-5ac007cd9e4f",
        "colab": {
          "base_uri": "https://localhost:8080/",
          "height": 37
        }
      },
      "outputs": [
        {
          "output_type": "execute_result",
          "data": {
            "text/plain": [
              "True"
            ],
            "text/latex": "$\\displaystyle \\text{True}$"
          },
          "metadata": {},
          "execution_count": 27
        }
      ],
      "source": [
        "# Check if the solutions satisfy the equation\n",
        "eq3.subs(y, sol_eq3[0]) and eq3.subs(y, sol_eq3[1])"
      ]
    },
    {
      "cell_type": "code",
      "execution_count": 28,
      "metadata": {
        "id": "Y4iMxKLkDix5"
      },
      "outputs": [],
      "source": [
        "# Set the display mode for plots\n",
        "import matplotlib.pyplot as plt\n",
        "plt.rcParams['figure.figsize'] = [3, 3] # set plot size and aspect_ratio=1"
      ]
    },
    {
      "cell_type": "code",
      "execution_count": 29,
      "metadata": {
        "id": "neL8LH1VDix5",
        "outputId": "9b9e44f7-237d-4938-b5fe-74378a1526b3",
        "colab": {
          "base_uri": "https://localhost:8080/",
          "height": 307
        }
      },
      "outputs": [
        {
          "output_type": "display_data",
          "data": {
            "text/plain": [
              "<Figure size 300x300 with 1 Axes>"
            ],
            "image/png": "[encoded data removed]"
          },
          "metadata": {}
        }
      ],
      "source": [
        "# We can also plot the solutions of the equation on the plane aspect_ratio=1\n",
        "sp.plot_implicit(eq3, (x, -2, 2), (y, -2, 2));"
      ]
    },
    {
      "cell_type": "code",
      "execution_count": 30,
      "metadata": {
        "id": "KAJbOnSvDix5",
        "outputId": "156107c1-baf5-4af7-e198-357f6c55710a",
        "colab": {
          "base_uri": "https://localhost:8080/",
          "height": 54
        }
      },
      "outputs": [
        {
          "output_type": "execute_result",
          "data": {
            "text/plain": [
              "Eq(x**2/4 + y**2, 1)"
            ],
            "text/latex": "$\\displaystyle \\frac{x^{2}}{4} + y^{2} = 1$"
          },
          "metadata": {},
          "execution_count": 30
        }
      ],
      "source": [
        "ellipse = sp.Eq(x**2/4 + y**2, 1)\n",
        "ellipse"
      ]
    },
    {
      "cell_type": "code",
      "execution_count": 31,
      "metadata": {
        "id": "QnNBBoyzDix5",
        "outputId": "bc1b967b-6df0-4ca6-f6ec-0f86bc42320f",
        "colab": {
          "base_uri": "https://localhost:8080/",
          "height": 307
        }
      },
      "outputs": [
        {
          "output_type": "display_data",
          "data": {
            "text/plain": [
              "<Figure size 300x300 with 1 Axes>"
            ],
            "image/png": "[encoded data removed]"
          },
          "metadata": {}
        }
      ],
      "source": [
        "# We can also plot the solutions of the equation on the plane aspect_ratio=1\n",
        "sp.plot_implicit(ellipse, (x, -3, 3), (y, -3, 3));"
      ]
    },
    {
      "cell_type": "code",
      "execution_count": 32,
      "metadata": {
        "id": "ZDYoPdb7Dix6",
        "outputId": "6e774e39-8809-4669-d7bf-6021eb7ca4d0",
        "colab": {
          "base_uri": "https://localhost:8080/",
          "height": 307
        }
      },
      "outputs": [
        {
          "output_type": "display_data",
          "data": {
            "text/plain": [
              "<Figure size 300x300 with 1 Axes>"
            ],
            "image/png": "[encoded data removed]"
          },
          "metadata": {}
        }
      ],
      "source": [
        "# We can also plot several equations on one plot\n",
        "line = sp.Eq(y, 2*x - 1)\n",
        "circle = sp.Eq(x**2 + y**2, 1)\n",
        "\n",
        "# Plotting the circle and ellipse on one plot\n",
        "p1 = sp.plot_implicit(line, (x, -2, 2), (y, -2, 2), show=False)\n",
        "p2 = sp.plot_implicit(circle, (x, -2, 2), (y, -2, 2), show=False)\n",
        "\n",
        "# Add the plots together\n",
        "p1.extend(p2) # \"attach\"\n",
        "p1.show()"
      ]
    },
    {
      "cell_type": "code",
      "execution_count": 33,
      "metadata": {
        "id": "dz-YUOPTDix6",
        "outputId": "ecfa0433-8bae-414c-e03a-0bf232656310",
        "colab": {
          "base_uri": "https://localhost:8080/"
        }
      },
      "outputs": [
        {
          "output_type": "execute_result",
          "data": {
            "text/plain": [
              "[{x: 0, y: -1}, {x: 4/5, y: 3/5}]"
            ]
          },
          "metadata": {},
          "execution_count": 33
        }
      ],
      "source": [
        "# Let's see where the circle and the line intersect\n",
        "intersection_points = sp.solve([line, circle])\n",
        "intersection_points"
      ]
    },
    {
      "cell_type": "code",
      "execution_count": 34,
      "metadata": {
        "id": "cTUwm2WhDix6",
        "outputId": "f6c78d4a-9dd6-4988-b61b-1bc1a577bdda",
        "colab": {
          "base_uri": "https://localhost:8080/",
          "height": 39
        }
      },
      "outputs": [
        {
          "output_type": "execute_result",
          "data": {
            "text/plain": [
              "Eq(x + y, 1)"
            ],
            "text/latex": "$\\displaystyle x + y = 1$"
          },
          "metadata": {},
          "execution_count": 34
        }
      ],
      "source": [
        "# How to check if two equations are equivalent?\n",
        "\n",
        "# Let's write the same in a different form\n",
        "r1 = sp.Eq(x + y, 1)\n",
        "r1"
      ]
    },
    {
      "cell_type": "code",
      "execution_count": 35,
      "metadata": {
        "id": "ecmsLZ84Dix7",
        "outputId": "af89ec30-ea1a-4b9e-e27f-d38a2cc5b9df",
        "colab": {
          "base_uri": "https://localhost:8080/",
          "height": 39
        }
      },
      "outputs": [
        {
          "output_type": "execute_result",
          "data": {
            "text/plain": [
              "Eq(2*x - 2, -2*y)"
            ],
            "text/latex": "$\\displaystyle 2 x - 2 = - 2 y$"
          },
          "metadata": {},
          "execution_count": 35
        }
      ],
      "source": [
        "r2 = sp.Eq(2*x - 2, -2*y)\n",
        "r2"
      ]
    },
    {
      "cell_type": "code",
      "execution_count": 36,
      "metadata": {
        "id": "Q3a5nbOZDix7",
        "outputId": "3b08b235-f447-49b6-bf05-924cba281361",
        "colab": {
          "base_uri": "https://localhost:8080/"
        }
      },
      "outputs": [
        {
          "output_type": "execute_result",
          "data": {
            "text/plain": [
              "False"
            ]
          },
          "metadata": {},
          "execution_count": 36
        }
      ],
      "source": [
        "# We cannot directly compare two equations, but we can check if they are equivalent\n",
        "r1 == r2"
      ]
    },
    {
      "cell_type": "code",
      "execution_count": 37,
      "metadata": {
        "id": "3cyd4tMlDix7",
        "outputId": "987e8d06-ba05-4b16-bd7d-aa5f2890cdd0",
        "colab": {
          "base_uri": "https://localhost:8080/",
          "height": 54
        }
      },
      "outputs": [
        {
          "output_type": "execute_result",
          "data": {
            "text/plain": [
              "(x + y - 1)/(2*x + 2*y - 2)"
            ],
            "text/latex": "$\\displaystyle \\frac{x + y - 1}{2 x + 2 y - 2}$"
          },
          "metadata": {},
          "execution_count": 37
        }
      ],
      "source": [
        "# But if we make an expression\n",
        "ratio = (r1.lhs - r1.rhs) / (r2.lhs - r2.rhs)\n",
        "ratio"
      ]
    },
    {
      "cell_type": "code",
      "execution_count": 38,
      "metadata": {
        "id": "Zaj7dzpGDix7",
        "outputId": "0eaadf68-d407-4521-8531-cfe27240a0db",
        "colab": {
          "base_uri": "https://localhost:8080/",
          "height": 51
        }
      },
      "outputs": [
        {
          "output_type": "execute_result",
          "data": {
            "text/plain": [
              "1/2"
            ],
            "text/latex": "$\\displaystyle \\frac{1}{2}$"
          },
          "metadata": {},
          "execution_count": 38
        }
      ],
      "source": [
        "# simplify the expression\n",
        "sp.simplify(ratio)"
      ]
    }
  ],
  "metadata": {
    "kernelspec": {
      "display_name": "Python 3",
      "language": "python",
      "name": "python3"
    },
    "language_info": {
      "codemirror_mode": {
        "name": "ipython",
        "version": 3
      },
      "file_extension": ".py",
      "mimetype": "text/x-python",
      "name": "python",
      "nbconvert_exporter": "python",
      "pygments_lexer": "ipython3",
      "version": "3.11.9"
    },
    "colab": {
      "provenance": [],
      "include_colab_link": true
    }
  },
  "nbformat": 4,
  "nbformat_minor": 0
}
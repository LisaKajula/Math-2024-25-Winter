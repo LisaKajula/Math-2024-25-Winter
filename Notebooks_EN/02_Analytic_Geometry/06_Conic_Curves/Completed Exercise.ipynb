{
  "nbformat": 4,
  "nbformat_minor": 0,
  "metadata": {
    "colab": {
      "provenance": [],
      "authorship_tag": "ABX9TyMwY1EYBTtHqsAsNMT8j/G/",
      "include_colab_link": true
    },
    "kernelspec": {
      "name": "python3",
      "display_name": "Python 3"
    },
    "language_info": {
      "name": "python"
    }
  },
  "cells": [
    {
      "cell_type": "markdown",
      "metadata": {
        "id": "view-in-github",
        "colab_type": "text"
      },
      "source": [
        "<a href=\"https://colab.research.google.com/github/LisaKajula/Math-2024-25-Winter/blob/main/Notebooks_EN/02_Analytic_Geometry/06_Conic_Curves/Completed%20Exercise.ipynb\" target=\"_parent\"><img src=\"https://colab.research.google.com/assets/colab-badge.svg\" alt=\"Open In Colab\"/></a>"
      ]
    },
    {
      "cell_type": "code",
      "execution_count": null,
      "metadata": {
        "id": "_AMSZOq3f9LJ"
      },
      "outputs": [],
      "source": []
    }
  ]
}
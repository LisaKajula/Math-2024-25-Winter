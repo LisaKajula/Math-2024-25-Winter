{
  "nbformat": 4,
  "nbformat_minor": 0,
  "metadata": {
    "colab": {
      "provenance": [],
      "authorship_tag": "ABX9TyOL3DDIlYibmrQOOjiL/6CJ",
      "include_colab_link": true
    },
    "kernelspec": {
      "name": "python3",
      "display_name": "Python 3"
    },
    "language_info": {
      "name": "python"
    }
  },
  "cells": [
    {
      "cell_type": "markdown",
      "metadata": {
        "id": "view-in-github",
        "colab_type": "text"
      },
      "source": [
        "<a href=\"https://colab.research.google.com/github/LisaKajula/Math-2024-25-Winter/blob/main/Notebooks_EN/03_Mathematical_Analysis/11_Functions/18%20functions%20Completed%20Work.ipynb\" target=\"_parent\"><img src=\"https://colab.research.google.com/assets/colab-badge.svg\" alt=\"Open In Colab\"/></a>"
      ]
    },
    {
      "cell_type": "markdown",
      "source": [
        "## Functions\n",
        "\n",
        "1. Draw in a single Geogebra notebook the following functions:\n",
        "   - $$f(x) = x^2$$\n",
        "   - $$g(x) = \\sqrt{x}$$\n",
        "   - $$h(x) = \\frac{1}{x}$$\n",
        "   - $$j(x) = \\sin(x)$$\n",
        "\n",
        "Find value of all the above functions at $$x = 2$$.\n",
        "$$\n",
        "f(2) = 2^2 = 4\n",
        "$$\n",
        "$$\n",
        "g(2) = \\sqrt{2} \\approx 1.414\n",
        "$$\n",
        "$$\n",
        "h(2) = \\frac{1}{2} = 0.5\n",
        "$$\n",
        "$$\n",
        "j(2) = \\sin(2) \\approx 0.909\n",
        "$$\n",
        "\n",
        "**Visualization:** https://www.geogebra.org/calculator/p9mhuxsm\n",
        "\n",
        "---\n",
        "\n",
        "2. Let $$f(x) = 3x - 1$$ and $$g(x) = \\sqrt{x}$$. Find:\n",
        "   - $$f(g(x)) = f(\\sqrt{x}) = 3\\sqrt{x} - 1$$\n",
        "   - $$g(f(x)) = g(3x - 1) = \\sqrt{3x - 1}$$\n",
        "   - $$f(f(x)) = f(3x - 1) = 3(3x - 1) - 1 = 9x - 4$$\n",
        "   - $$g(g(x)) = g(\\sqrt{x}) = \\sqrt{\\sqrt{x}} = x^{1/4}$$\n",
        "\n",
        "**Visualization:** https://www.geogebra.org/calculator/tzda55vm\n",
        "\n",
        "---\n",
        "\n",
        "3. Let $$f(x) = e^x$$ and $$g(x) = \\ln(x)$$. Check:\n",
        "   - $$f(g(x)) = f(\\ln(x)) = e^{\\ln(x)} = x$$\n",
        "   - $$g(f(x)) = g(e^x) = \\ln(e^x) = x$$\n",
        "\n",
        "**Observation:** The functions $$f$$ and $$g$$ are inverses of each other, so applying one after the other returns the input value.  \n",
        "\n",
        "**Visualization:** https://www.geogebra.org/calculator/spsexmar\n",
        "\n",
        "---\n",
        "\n",
        "4. We have function $$f = \\{(1,7), (2,9), (3,11)\\}$$. Give inverse function $$f^{-1}$$.  \n",
        "$$\n",
        "f^{-1} = \\{(7,1), (9,2), (11,3)\\}\n",
        "$$\n",
        "\n",
        "---\n",
        "\n",
        "5. We have function $$f = \\{(1,7), (2,7), (3,11)\\}$$.  \n",
        "**Note:** This function is not invertible because it fails the horizontal line test. Points $$(1,7)$$ and $$(2,7)$$ have the same $$y$$-value, which makes the inverse undefined.\n",
        "\n",
        "---\n",
        "\n",
        "6. We have function $$f(x) = x - 1$$. Give inverse function $$f^{-1}$$.  \n",
        "The inverse function is:\n",
        "$$\n",
        "f^{-1}(x) = x + 1\n",
        "$$\n",
        "\n",
        "Show both functions on the same GeoGebra notebook.\n",
        "\n",
        "**Visualization:** https://www.geogebra.org/calculator/jstwatnd\n",
        "(Note: $$g(x) = x + 1$$ is the inverse function of $$f(x) = x - 1$$.)\n",
        "\n",
        "\n",
        "\n",
        ""
      ],
      "metadata": {
        "id": "PMNC0oQx7-O7"
      }
    }
  ]
}
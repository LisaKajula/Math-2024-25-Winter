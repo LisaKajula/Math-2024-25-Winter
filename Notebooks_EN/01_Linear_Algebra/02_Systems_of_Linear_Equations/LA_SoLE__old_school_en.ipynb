{
  "cells": [
    {
      "cell_type": "markdown",
      "metadata": {
        "id": "view-in-github",
        "colab_type": "text"
      },
      "source": [
        "<a href=\"https://colab.research.google.com/github/lisalikestocode/final/blob/main/Notebooks_EN/01_Linear_Algebra/02_Systems_of_Linear_Equations/LA_SoLE__old_school_en.ipynb\" target=\"_parent\"><img src=\"https://colab.research.google.com/assets/colab-badge.svg\" alt=\"Open In Colab\"/></a>"
      ]
    },
    {
      "cell_type": "markdown",
      "metadata": {
        "id": "7Uros7e63nZU"
      },
      "source": [
        "# School Method for Solving Systems of Linear Equations"
      ]
    },
    {
      "cell_type": "code",
      "execution_count": null,
      "metadata": {
        "id": "1mmDHHGK3nZb"
      },
      "outputs": [],
      "source": [
        "import sympy as sp\n",
        "from sympy import symbols, Eq, expand, solve\n",
        "\n",
        "class EnhancedEq(Eq):\n",
        "    def __add__(self, other):\n",
        "        return EnhancedEq(self.lhs + other.lhs, self.rhs + other.rhs)\n",
        "\n",
        "    def __sub__(self, other):\n",
        "        return EnhancedEq(self.lhs - other.lhs, self.rhs - other.rhs)\n",
        "\n",
        "    def __mul__(self, scalar):\n",
        "        return EnhancedEq(scalar * self.lhs, scalar * self.rhs)\n",
        "\n",
        "    def __rmul__(self, scalar):\n",
        "        return self.__mul__(scalar)\n",
        "\n",
        "    def simplify(self):\n",
        "        return EnhancedEq(expand(self.lhs), expand(self.rhs))\n",
        "\n",
        "    def substitute(self, *args, **kwargs):\n",
        "        return EnhancedEq(self.lhs.subs(*args, **kwargs), self.rhs.subs(*args, **kwargs))\n",
        "\n",
        "    def solve_for(self, symbol):\n",
        "        return solve(self, symbol)\n",
        "\n",
        "# Example usage:\n",
        "x, y = symbols('x y')\n",
        "\n",
        "# Define equations\n",
        "eq1 = EnhancedEq(2*x + y, 5)\n",
        "eq2 = EnhancedEq(x - y, 1)"
      ]
    },
    {
      "cell_type": "code",
      "execution_count": null,
      "metadata": {
        "id": "3CuVRbMb3nZe",
        "outputId": "0eb9ab34-8df7-4808-96f2-c9543d2e3d30",
        "colab": {
          "base_uri": "https://localhost:8080/",
          "height": 57
        }
      },
      "outputs": [
        {
          "output_type": "stream",
          "name": "stdout",
          "text": [
            "First equation:\n"
          ]
        },
        {
          "output_type": "execute_result",
          "data": {
            "text/plain": [
              "Eq(2*x + y, 5)"
            ],
            "text/latex": "$\\displaystyle 2 x + y = 5$"
          },
          "metadata": {},
          "execution_count": 3
        }
      ],
      "source": [
        "print(\"First equation:\")\n",
        "eq1"
      ]
    },
    {
      "cell_type": "code",
      "execution_count": null,
      "metadata": {
        "id": "18P-RjYY3nZg",
        "outputId": "91f46bb8-b06a-4904-e63f-b5d0f6816966",
        "colab": {
          "base_uri": "https://localhost:8080/",
          "height": 57
        }
      },
      "outputs": [
        {
          "output_type": "stream",
          "name": "stdout",
          "text": [
            "Second equation:\n"
          ]
        },
        {
          "output_type": "execute_result",
          "data": {
            "text/plain": [
              "Eq(x - y, 1)"
            ],
            "text/latex": "$\\displaystyle x - y = 1$"
          },
          "metadata": {},
          "execution_count": 4
        }
      ],
      "source": [
        "print(\"Second equation:\")\n",
        "eq2"
      ]
    },
    {
      "cell_type": "code",
      "execution_count": null,
      "metadata": {
        "id": "f1IjBCbk3nZi",
        "outputId": "ea0449fc-afd4-4ee9-cc8d-c18b2d6e3882",
        "colab": {
          "base_uri": "https://localhost:8080/",
          "height": 40
        }
      },
      "outputs": [
        {
          "output_type": "execute_result",
          "data": {
            "text/plain": [
              "Eq(3*x, 6)"
            ],
            "text/latex": "$\\displaystyle 3 x = 6$"
          },
          "metadata": {},
          "execution_count": 5
        }
      ],
      "source": [
        "# Add the equations\n",
        "eq3 = eq1 + eq2\n",
        "eq3"
      ]
    },
    {
      "cell_type": "code",
      "execution_count": null,
      "metadata": {
        "id": "UA5n6f3G3nZj",
        "outputId": "80dbce2e-c533-495f-83d0-5bb33d46bfc1",
        "colab": {
          "base_uri": "https://localhost:8080/",
          "height": 37
        }
      },
      "outputs": [
        {
          "output_type": "execute_result",
          "data": {
            "text/plain": [
              "2"
            ],
            "text/latex": "$\\displaystyle 2$"
          },
          "metadata": {},
          "execution_count": 6
        }
      ],
      "source": [
        "# We have an equation with one unknown, so we can solve it\n",
        "sol_x = eq3.solve_for(x)[0]\n",
        "sol_x"
      ]
    },
    {
      "cell_type": "code",
      "execution_count": null,
      "metadata": {
        "id": "VxYexZpy3nZk",
        "outputId": "ec7a5883-0d0e-4423-bdba-5197184a0acc",
        "colab": {
          "base_uri": "https://localhost:8080/",
          "height": 40
        }
      },
      "outputs": [
        {
          "output_type": "execute_result",
          "data": {
            "text/plain": [
              "Eq(2 - y, 1)"
            ],
            "text/latex": "$\\displaystyle 2 - y = 1$"
          },
          "metadata": {},
          "execution_count": 7
        }
      ],
      "source": [
        "# Substitute the solution into equation 2\n",
        "eq2 = eq2.substitute(x, sol_x)\n",
        "eq2"
      ]
    },
    {
      "cell_type": "code",
      "execution_count": null,
      "metadata": {
        "id": "rn7TPNAE3nZk",
        "outputId": "56eb2cd2-d09a-4ff5-c129-cff357fdc07f",
        "colab": {
          "base_uri": "https://localhost:8080/",
          "height": 37
        }
      },
      "outputs": [
        {
          "output_type": "execute_result",
          "data": {
            "text/plain": [
              "1"
            ],
            "text/latex": "$\\displaystyle 1$"
          },
          "metadata": {},
          "execution_count": 8
        }
      ],
      "source": [
        "# We get an equation with one unknown, so we can solve it\n",
        "eq2.solve_for(y)[0]"
      ]
    },
    {
      "cell_type": "code",
      "execution_count": null,
      "metadata": {
        "id": "bhrfWiJQ3nZl",
        "outputId": "74829199-12f5-42bc-ef12-c6f582365771",
        "colab": {
          "base_uri": "https://localhost:8080/"
        }
      },
      "outputs": [
        {
          "output_type": "execute_result",
          "data": {
            "text/plain": [
              "{x: 2, y: 1}"
            ]
          },
          "metadata": {},
          "execution_count": 9
        }
      ],
      "source": [
        "# Thus x=2, y=1\n",
        "# Verify with sympy\n",
        "sp.solve([eq1, eq2])"
      ]
    },
    {
      "cell_type": "markdown",
      "metadata": {
        "id": "c8VTHh_n3nZm"
      },
      "source": [
        "---\n",
        "\n",
        "### Exercises for Students\n",
        "\n",
        "Solve the following systems of equations similarly to the example above:\n",
        "\n",
        "* $3x-2y=5, \\quad 2x+3y=7$,\n",
        "* $2x-3y=10, \\quad 4x+5y=20$,\n",
        "* $2x - y + z = 3, \\quad x + 2y - z = 1, \\quad 3x - y + 2z = 11$.\n",
        "* $2x-3y+4z+2t=2, \\quad 3x+2y-5z+3t=3, \\quad 4x-3y+2z-5t=4, \\quad 5x+4y-3z+2t=5$.\n",
        "#homework\n",
        "#1.\n",
        "$3x-2y=5, \\quad 2x+3y=7$,\n",
        "###Multiply the first equation by 3:\n",
        "\n",
        "$3\\cdot (3x-2y)=5\\cdot3$  =  $9x-6y=15$\n",
        "###Multiply the first equation by 2:\n",
        "\n",
        "$2\\cdot(2x+3y)=7\\cdot 2$=  $4x+6y=14$\n",
        "###Now we have:\n",
        "$9x−6y=15$\n",
        "\n",
        "\n",
        "$4x+6y=14$\n",
        "\n",
        "##Add the equations\n",
        "$(9x−6y)+(4x+6y)=15+14$\n",
        "\n",
        "\n",
        "\n",
        "$13x=29$\n",
        "\n",
        "\n",
        "$x=\\frac{29}{13}$\n",
        "\n",
        "\n",
        "###Substitute back into one of the original equations\n",
        "$2 (\\frac{29}{13})+3y=7$\n",
        "\n",
        "$\\frac{58}{13}+3y=7$\n",
        "\n",
        "Subtract $\\frac{58}{13}$from both sides:\n",
        "\n",
        "$3y=7-\\frac{58}{13}=\\frac{91-58}{13}=\\frac{33}{13}$\n",
        "\n",
        "$y=\\frac{33}{13}$=$\\frac{11}{33}$\n",
        "##solution\n",
        "$X=\\frac{29}{13}       \n",
        "$\n",
        "$y=\\frac{11}{13}$\n",
        "\n",
        "#2.\n",
        "$2x-3y=10, \\quad 4x+5y=20$\n",
        "###we multiply the first equation by 2 :\n",
        "$2(2x-3y)=10\\cdot2$\n",
        "\n",
        "\n",
        "=$4x-6y=20$\n",
        "#now we have:\n",
        "$4x-6y=20$\n",
        "\n",
        "$4x-5y=20$\n",
        "## we subtract the two euations together:\n",
        "$4x-6y=20-4x-5y=20$\n",
        "###which gives us:\n",
        "$11y=0$\n",
        "\n",
        "$y=0$\n",
        "##To find y we substitute x into equation :\n",
        "$2x−3y=10$\n",
        "\n",
        "$2x−3\\cdot0=10$\n",
        "\n",
        "$2x=10$\n",
        "\n",
        "$x=\\frac{10}{2}$\n",
        "\n",
        "\n",
        "$x=5$\n",
        "\n",
        "#3.\n",
        "$2x−y+z=3 \\quad x+2y−z=1 \\quad 3x−y+2z=11$\n",
        "##define equations\n",
        "eq1=$2x−y+z=3$\n",
        "\n",
        "eq2=$x+2y−z=1$\n",
        "\n",
        "eq1=$3x−y+2z=11$\n",
        "##Add eq1 and eq2, eliminating z\n",
        "$2x−y+z=3+x+2y−z=1$\n",
        "#This gives us:\n",
        "$3x + y = 4$\n",
        "##both equations are now :\n",
        "$3x+y=4$\n",
        "\n",
        "\n",
        "$x+y=8$\n",
        "##subtract both equations from each other to eliminate y:\n",
        "$3x+y=4-x+y=8$\n",
        "##which gives us\n",
        "$2x = -4$\n",
        "\n",
        "\n",
        "$x=\\frac{-4}{2}$\n",
        "\n",
        "\n",
        "$x = -2$\n",
        "\n",
        "\n",
        "#4.\n",
        "$2x−3y+4z+2t=2 \\quad 3x+2y−5z+3t=3 \\quad 4x−3y+2z−5t=4 \\quad 5x+4y−3z+2t=5$\n",
        "\n",
        "##define the equations :\n",
        "eq1=$2x−3y+4z+2t=2$\n",
        "\n",
        "\n",
        "eq2=$3x+2y−5z+3t=3$\n",
        "\n",
        "\n",
        "eq3=$4x−3y+2z−5t=4$\n",
        "\n",
        "\n",
        "eq4=$5x+4y−3z+2t=5$\n",
        "\n",
        "##Multiply Equation 1 by 3 to match the x-coefficient in Equation 2\n",
        "$(2x−3y+4z+2t=2)\\cdot3$\n",
        "###result\n",
        "$6x−9y+12z+6t=6$\n",
        "##Multiply Equation 1 by 4 to match the x-coefficient in Equation 3:\n",
        "$(2x−3y+4z+2t=2)\\cdot4$\n",
        "##Result\n",
        "$8x−12y+16z+8t=8$\n",
        "##Multiply Equation 1 by 5 to match the x-coefficient in Equation 4:\n",
        "$(2x−3y+4z+2t=2)\\cdot5$\n",
        "##result\n",
        "10x−15y+20z+10t=10\n",
        "##Subtract These Results from Equations 2, 3, and 4\n",
        "\n",
        "\n",
        "\n",
        "\n",
        "\n",
        "\n",
        "\n",
        "\n",
        "\n",
        "\n",
        "\n"
      ]
    },
    {
      "cell_type": "code",
      "source": [
        "import sympy as sp\n",
        "from sympy import symbols, Eq, expand, solve\n",
        "\n",
        "class EnhancedEq(Eq):\n",
        "    def __add__(self, other):\n",
        "        return EnhancedEq(self.lhs + other.lhs, self.rhs + other.rhs)\n",
        "\n",
        "    def __sub__(self, other):\n",
        "        return EnhancedEq(self.lhs - other.lhs, self.rhs - other.rhs)\n",
        "\n",
        "    def __mul__(self, scalar):\n",
        "        return EnhancedEq(scalar * self.lhs, scalar * self.rhs)\n",
        "\n",
        "    def __rmul__(self, scalar):\n",
        "        return self.__mul__(scalar)\n",
        "\n",
        "    def simplify(self):\n",
        "        return EnhancedEq(expand(self.lhs), expand(self.rhs))\n",
        "\n",
        "    def substitute(self, *args, **kwargs):\n",
        "        return EnhancedEq(self.lhs.subs(*args, **kwargs), self.rhs.subs(*args, **kwargs))\n",
        "\n",
        "    def solve_for(self, symbol):\n",
        "        return solve(self, symbol)\n",
        "\n",
        "\n",
        "# Define variables\n",
        "x, y, z, t = symbols('x y z t')\n",
        "\n",
        "### Exercise 1: 3x - 2y = 5, 2x + 3y = 7\n",
        "eq1 = EnhancedEq(3*x - 2*y, 5)\n",
        "eq2 = EnhancedEq(2*x + 3*y, 7)\n",
        "\n",
        "# Multiply equations to align y coefficients\n",
        "eq1_mod = eq1 * 3\n",
        "eq2_mod = eq2 * 2\n",
        "\n",
        "# Add equations to eliminate y\n",
        "eq3 = eq1_mod + eq2_mod\n",
        "sol_x = eq3.solve_for(x)[0]\n",
        "\n",
        "# Substitute x into original equations to find y\n",
        "eq2_sub = eq2.substitute(x, sol_x)\n",
        "sol_y = eq2_sub.solve_for(y)[0]\n",
        "\n",
        "# Print solution\n",
        "print(f\"Exercise 1 solution: x = {sol_x}, y = {sol_y}\")\n",
        "\n",
        "\n",
        "### Exercise 2: 2x - 3y = 10, 4x + 5y = 20\n",
        "eq1 = EnhancedEq(2*x - 3*y, 10)\n",
        "eq2 = EnhancedEq(4*x + 5*y, 20)\n",
        "\n",
        "# Multiply eq1 to align x coefficients\n",
        "eq1_mod = eq1 * 2\n",
        "\n",
        "# Subtract equations to eliminate x\n",
        "eq3 = eq1_mod - eq2\n",
        "sol_y = eq3.solve_for(y)[0]\n",
        "\n",
        "# Substitute y into original equation to find x\n",
        "eq1_sub = eq1.substitute(y, sol_y)\n",
        "sol_x = eq1_sub.solve_for(x)[0]\n",
        "\n",
        "# Print solution\n",
        "print(f\"Exercise 2 solution: x = {sol_x}, y = {sol_y}\")\n",
        "\n",
        "\n",
        "### Exercise 3: 2x - y + z = 3, x + 2y - z = 1, 3x - y + 2z = 11\n",
        "eq1 = EnhancedEq(2*x - y + z, 3)\n",
        "eq2 = EnhancedEq(x + 2*y - z, 1)\n",
        "eq3 = EnhancedEq(3*x - y + 2*z, 11)\n",
        "\n",
        "# Solve first equation for z\n",
        "sol_z = eq1.solve_for(z)[0]\n",
        "\n",
        "# Substitute z into eq2 and eq3\n",
        "eq2_sub = eq2.substitute(z, sol_z)\n",
        "eq3_sub = eq3.substitute(z, sol_z)\n",
        "\n",
        "# Now solve the 2-variable system (eq2_sub and eq3_sub)\n",
        "sol_y = eq2_sub.solve_for(y)[0]\n",
        "sol_x = eq3_sub.substitute(y, sol_y).solve_for(x)[0]\n",
        "\n",
        "# Find z by substituting x and y back\n",
        "sol_z = sol_z.subs(x, sol_x).subs(y, sol_y)\n",
        "\n",
        "# Print solution\n",
        "print(f\"Exercise 3 solution: x = {sol_x}, y = {sol_y}, z = {sol_z}\")\n",
        "\n",
        "\n",
        "### Exercise 4: 4-variable system\n",
        "eq1 = EnhancedEq(2*x - 3*y + 4*z + 2*t, 2)\n",
        "eq2 = EnhancedEq(3*x + 2*y - 5*z + 3*t, 3)\n",
        "eq3 = EnhancedEq(4*x - 3*y + 2*z - 5*t, 4)\n",
        "eq4 = EnhancedEq(5*x + 4*y - 3*z + 2*t, 5)\n",
        "\n",
        "# Use sympy's solve to handle this complex system directly\n",
        "solution = solve([eq1, eq2, eq3, eq4], [x, y, z, t])\n",
        "\n",
        "# Print solution\n",
        "print(f\"Exercise 4 solution: {solution}\")\n"
      ],
      "metadata": {
        "id": "39UJeMvT58Gg",
        "outputId": "4fd97ac7-877d-4769-d440-c76c56c94570",
        "colab": {
          "base_uri": "https://localhost:8080/"
        }
      },
      "execution_count": 16,
      "outputs": [
        {
          "output_type": "stream",
          "name": "stdout",
          "text": [
            "Exercise 1 solution: x = 29/13, y = 11/13\n",
            "Exercise 2 solution: x = 5, y = 0\n",
            "Exercise 3 solution: x = -1/4, y = 4 - 3*x, z = 15/2 - 3*x\n",
            "Exercise 4 solution: {t: 0, x: 1, y: 0, z: 0}\n"
          ]
        }
      ]
    }
  ],
  "metadata": {
    "kernelspec": {
      "display_name": "Python 3",
      "language": "python",
      "name": "python3"
    },
    "language_info": {
      "codemirror_mode": {
        "name": "ipython",
        "version": 3
      },
      "file_extension": ".py",
      "mimetype": "text/x-python",
      "name": "python",
      "nbconvert_exporter": "python",
      "pygments_lexer": "ipython3",
      "version": "3.11.9"
    },
    "colab": {
      "provenance": [],
      "include_colab_link": true
    }
  },
  "nbformat": 4,
  "nbformat_minor": 0
}
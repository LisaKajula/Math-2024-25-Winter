{
  "nbformat": 4,
  "nbformat_minor": 0,
  "metadata": {
    "colab": {
      "provenance": [],
      "authorship_tag": "ABX9TyPh2tYjk6/iLZb1iPtIr6tw",
      "include_colab_link": true
    },
    "kernelspec": {
      "name": "python3",
      "display_name": "Python 3"
    },
    "language_info": {
      "name": "python"
    }
  },
  "cells": [
    {
      "cell_type": "markdown",
      "metadata": {
        "id": "view-in-github",
        "colab_type": "text"
      },
      "source": [
        "<a href=\"https://colab.research.google.com/github/LisaKajula/Math-2024-25-Winter/blob/main/23_Taylor_Series.ipynb.ipynb\" target=\"_parent\"><img src=\"https://colab.research.google.com/assets/colab-badge.svg\" alt=\"Open In Colab\"/></a>"
      ]
    },
    {
      "cell_type": "markdown",
      "source": [
        "# Problem 23: Taylor Series\n",
        "\n",
        "## 1. Taylor Series for $$ f(x) = \\cos(x) $$ around $$ x = 0 $$ up to the 4th degree\n",
        "\n",
        "The Taylor series for a function $$ f(x) $$ around $$ x = a $$ is given by:\n",
        "$$ f(x) = f(a) + f'(a)(x - a) + \\frac{f''(a)}{2!}(x - a)^2 + \\frac{f'''(a)}{3!}(x - a)^3 + \\frac{f''''(a)}{4!}(x - a)^4 + \\dots $$\n",
        "\n",
        "For $$ f(x) = \\cos(x) $$ around $$ x = 0 $$:\n",
        "1. Compute derivatives:\n",
        "   - $$ f(x) = \\cos(x) $$, $$ f(0) = 1 $$\n",
        "   - $$ f'(x) = -\\sin(x) $$, $$ f'(0) = 0 $$\n",
        "   - $$ f''(x) = -\\cos(x) $$, $$ f''(0) = -1 $$\n",
        "   - $$ f'''(x) = \\sin(x) $$, $$ f'''(0) = 0 $$\n",
        "   - $$ f''''(x) = \\cos(x) $$, $$ f''''(0) = 1 $$\n",
        "\n",
        "2. Substitute into the Taylor series formula:\n",
        "   $$ \\cos(x) \\approx 1 + 0 \\cdot x + \\frac{-1}{2!}x^2 + \\frac{0}{3!}x^3 + \\frac{1}{4!}x^4 $$\n",
        "   Simplify:\n",
        "   $$ \\cos(x) \\approx 1 - \\frac{x^2}{2} + \\frac{x^4}{24} $$\n",
        "\n",
        "3. **Geogebra Visualization:**\n",
        "  https://www.geogebra.org/calculator/df9eatzp\n",
        "\n",
        "## 2. Taylor Series for $$ h(x) = \\frac{1}{1 - x} $$ around $$ x = 0 $$ up to the 4th degree\n",
        "\n",
        "For $$ h(x) = \\frac{1}{1 - x} $$ around $$ x = 0 $$:\n",
        "1. Compute derivatives:\n",
        "   - $$ h(x) = \\frac{1}{1 - x} $$, $$ h(0) = 1 $$\n",
        "   - $$ h'(x) = \\frac{1}{(1 - x)^2} $$, $$ h'(0) = 1 $$\n",
        "   - $$ h''(x) = \\frac{2}{(1 - x)^3} $$, $$ h''(0) = 2 $$\n",
        "   - $$ h'''(x) = \\frac{6}{(1 - x)^4} $$, $$ h'''(0) = 6 $$\n",
        "   - $$ h''''(x) = \\frac{24}{(1 - x)^5} $$, $$ h''''(0) = 24 $$\n",
        "\n",
        "2. Substitute into the Taylor series formula:\n",
        "   $$ \\frac{1}{1 - x} \\approx 1 + 1 \\cdot x + \\frac{2}{2!}x^2 + \\frac{6}{3!}x^3 + \\frac{24}{4!}x^4 $$\n",
        "   Simplify:\n",
        "   $$ \\frac{1}{1 - x} \\approx 1 + x + x^2 + x^3 + x^4 $$\n",
        "\n",
        "3. **Geogebra Visualization:**\n",
        "https://www.geogebra.org/calculator/e8tyapdc\n",
        "\n",
        "## 3. Taylor Series for $$ g(x) = \\sin(x) $$ around $$ x = \\pi $$ up to the 4th degree\n",
        "\n",
        "For $$ g(x) = \\sin(x) $$ around $$ x = \\pi $$:\n",
        "1. Compute derivatives:\n",
        "   - $$ g(x) = \\sin(x) $$, $$ g(\\pi) = 0 $$\n",
        "   - $$ g'(x) = \\cos(x) $$, $$ g'(\\pi) = -1 $$\n",
        "   - $$ g''(x) = -\\sin(x) $$, $$ g''(\\pi) = 0 $$\n",
        "   - $$ g'''(x) = -\\cos(x) $$, $$ g'''(\\pi) = 1 $$\n",
        "   - $$ g''''(x) = \\sin(x) $$, $$ g''''(\\pi) = 0 $$\n",
        "\n",
        "2. Substitute into the Taylor series formula:\n",
        "   $$ \\sin(x) \\approx 0 + (-1)(x - \\pi) + \\frac{0}{2!}(x - \\pi)^2 + \\frac{1}{3!}(x - \\pi)^3 + \\frac{0}{4!}(x - \\pi)^4 $$\n",
        "   Simplify:\n",
        "   $$ \\sin(x) \\approx -(x - \\pi) + \\frac{(x - \\pi)^3}{6} $$\n",
        "\n",
        "3. **Geogebra Visualization:**\n",
        "  https://www.geogebra.org/calculator/q7srz2cn  \n",
        "\n",
        "## 4. Tangent Line to $$ f(x) = e^{\\sin(x)} $$ at $$ x_0 = \\pi $$\n",
        "\n",
        "The tangent line to a function $$ f(x) $$ at $$ x = x_0 $$ is given by:\n",
        "$$ y = f'(x_0)(x - x_0) + f(x_0) $$\n",
        "\n",
        "For $$ f(x) = e^{\\sin(x)} $$ at $$ x_0 = \\pi $$:\n",
        "1. Compute $$ f(\\pi) $$ and $$ f'(\\pi) $$:\n",
        "   - $$ f(\\pi) = e^{\\sin(\\pi)} = e^0 = 1 $$\n",
        "   - $$ f'(x) = e^{\\sin(x)} \\cdot \\cos(x) $$, so $$ f'(\\pi) = e^{\\sin(\\pi)} \\cdot \\cos(\\pi) = 1 \\cdot (-1) = -1 $$\n",
        "\n",
        "2. Substitute into the tangent line formula:\n",
        "   $$ y = -1 \\cdot (x - \\pi) + 1 $$\n",
        "   Simplify:\n",
        "   $$ y = -x + \\pi + 1 $$\n",
        "\n",
        "3. **Geogebra Visualization:**\n",
        "https://www.geogebra.org/calculator/ed9tg9ua\n"
      ],
      "metadata": {
        "id": "JckcJBxqxRd2"
      }
    }
  ]
}